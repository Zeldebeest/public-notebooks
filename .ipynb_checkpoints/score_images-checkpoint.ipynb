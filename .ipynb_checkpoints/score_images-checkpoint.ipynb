{
 "metadata": {
  "name": "",
  "signature": "sha256:8452c4ddf9d980cae3af79be9376a8bc64fd901f49059bf8cfe963674cd2e083"
 },
 "nbformat": 3,
 "nbformat_minor": 0,
 "worksheets": []
}