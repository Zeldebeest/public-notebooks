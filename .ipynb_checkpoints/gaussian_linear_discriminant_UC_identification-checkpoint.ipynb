{
 "metadata": {
  "name": "",
  "signature": "sha256:88e55db02ff5881a20d75428eb6108ac49a8f168e44e9fe2bdcb33cc75d0e000"
 },
 "nbformat": 3,
 "nbformat_minor": 0,
 "worksheets": [
  {
   "cells": [
    {
     "cell_type": "markdown",
     "metadata": {},
     "source": [
      "I'm going to use linear discriminant analysis, trained on the clustering results for long/short to clasify each image as long/short cell. Errors should be fairly gaussian, so it should be good."
     ]
    },
    {
     "cell_type": "markdown",
     "metadata": {},
     "source": [
      "## 1. Training an LDA model on the clustering data"
     ]
    },
    {
     "cell_type": "code",
     "collapsed": false,
     "input": [
      "from __future__ import division\n",
      "%load_ext autoreload\n",
      "%autoreload 2\n",
      "no_target = [\"/Volumes/Data/XFEL/SFC_May_2014_XPP/No_TARGET\"]"
     ],
     "language": "python",
     "metadata": {},
     "outputs": [],
     "prompt_number": 1
    },
    {
     "cell_type": "code",
     "collapsed": false,
     "input": [
      "!ls /Volumes/Data/XFEL/SFC_May_2014_XPP/No_TARGET/*/*/best_by_strong | wc\n",
      "!ls /Volumes/Data/zeldin/DATA_for_Data_Exploration_Paper/no_target | wc"
     ],
     "language": "python",
     "metadata": {},
     "outputs": [
      {
       "output_type": "stream",
       "stream": "stdout",
       "text": [
        "     496     432   26816\r\n"
       ]
      },
      {
       "output_type": "stream",
       "stream": "stdout",
       "text": [
        "     367     367   19818\r\n"
       ]
      }
     ],
     "prompt_number": 2
    },
    {
     "cell_type": "code",
     "collapsed": false,
     "input": [
      "import logging\n",
      "import os\n",
      "import numpy as np\n",
      "import matplotlib.pyplot as plt\n",
      "import logging\n",
      "import brewer2mpl\n",
      "# Set up logging\n",
      "reload(logging)  # work-around for IPython\n",
      "FORMAT = '%(message)s'\n",
      "logging.basicConfig(level=logging.INFO, format=FORMAT)\n",
      "# pretty colors\n",
      "cols = brewer2mpl.get_map('BrBG', 'Diverging', 3).mpl_colors\n",
      "from xfel.clustering.cluster import Cluster\n",
      "from xfel.clustering.cluster import SingleFrame\n",
      "from xfel.clustering.cluster_groups import unit_cell_info"
     ],
     "language": "python",
     "metadata": {},
     "outputs": [],
     "prompt_number": 3
    },
    {
     "cell_type": "code",
     "collapsed": false,
     "input": [
      "clu_all = Cluster.from_directories(no_target)"
     ],
     "language": "python",
     "metadata": {},
     "outputs": [
      {
       "output_type": "stream",
       "stream": "stderr",
       "text": [
        "Could not read /Volumes/Data/XFEL/SFC_May_2014_XPP/No_TARGET/dewar2/cluster_20.lst. It may not be a pickle file.\n"
       ]
      },
      {
       "output_type": "stream",
       "stream": "stderr",
       "text": [
        "Could not extract point group and unit cell from /Volumes/Data/XFEL/SFC_May_2014_XPP/No_TARGET/dewar2/cluster_20.lst\n"
       ]
      },
      {
       "output_type": "stream",
       "stream": "stderr",
       "text": [
        "skipping file cluster_20.lst\n"
       ]
      },
      {
       "output_type": "stream",
       "stream": "stderr",
       "text": [
        "Could not read /Volumes/Data/XFEL/SFC_May_2014_XPP/No_TARGET/dewar2/cluster_21.lst. It may not be a pickle file.\n"
       ]
      },
      {
       "output_type": "stream",
       "stream": "stderr",
       "text": [
        "Could not extract point group and unit cell from /Volumes/Data/XFEL/SFC_May_2014_XPP/No_TARGET/dewar2/cluster_21.lst\n"
       ]
      },
      {
       "output_type": "stream",
       "stream": "stderr",
       "text": [
        "skipping file cluster_21.lst\n"
       ]
      },
      {
       "output_type": "stream",
       "stream": "stderr",
       "text": [
        "Could not read /Volumes/Data/XFEL/SFC_May_2014_XPP/No_TARGET/dewar2/cluster_22.lst. It may not be a pickle file.\n"
       ]
      },
      {
       "output_type": "stream",
       "stream": "stderr",
       "text": [
        "Could not extract point group and unit cell from /Volumes/Data/XFEL/SFC_May_2014_XPP/No_TARGET/dewar2/cluster_22.lst\n"
       ]
      },
      {
       "output_type": "stream",
       "stream": "stderr",
       "text": [
        "skipping file cluster_22.lst\n"
       ]
      },
      {
       "output_type": "stream",
       "stream": "stderr",
       "text": [
        "Could not read /Volumes/Data/XFEL/SFC_May_2014_XPP/No_TARGET/dewar2/cluster_23.lst. It may not be a pickle file.\n"
       ]
      },
      {
       "output_type": "stream",
       "stream": "stderr",
       "text": [
        "Could not extract point group and unit cell from /Volumes/Data/XFEL/SFC_May_2014_XPP/No_TARGET/dewar2/cluster_23.lst\n"
       ]
      },
      {
       "output_type": "stream",
       "stream": "stderr",
       "text": [
        "skipping file cluster_23.lst\n"
       ]
      }
     ],
     "prompt_number": 4
    },
    {
     "cell_type": "code",
     "collapsed": false,
     "input": [
      "sub_clusters, _ = clu_all.ab_cluster(10000)"
     ],
     "language": "python",
     "metadata": {},
     "outputs": [
      {
       "output_type": "stream",
       "stream": "stderr",
       "text": [
        "Hierarchical clustering of unit cells\n"
       ]
      },
      {
       "output_type": "stream",
       "stream": "stderr",
       "text": [
        "Using Andrews-Bernstein distance from Andrews & Bernstein J Appl Cryst 47:346 (2014)\n"
       ]
      },
      {
       "output_type": "stream",
       "stream": "stderr",
       "text": [
        "Distances have been calculated\n"
       ]
      },
      {
       "metadata": {},
       "output_type": "display_data",
       "png": "[encoded data removed]",
       "text": [
        "<matplotlib.figure.Figure at 0x1048f9550>"
       ]
      }
     ],
     "prompt_number": 5
    },
    {
     "cell_type": "code",
     "collapsed": false,
     "input": [
      "from xfel.clustering.cluster_groups import unit_cell_info\n",
      "print unit_cell_info(sub_clusters)"
     ],
     "language": "python",
     "metadata": {},
     "outputs": [
      {
       "output_type": "stream",
       "stream": "stdout",
       "text": [
        "34 clusters.\n",
        "C_id  Num in cluster Med_a       Med_b       Med_c       Med_alpha    Med_beta     Med_gamma   \n",
        "cluster_29       2        167.7(0.4 ) 69.1 (0.2 ) 286.6(0.2 ) 90.00 (0.00) 90.04 (0.78) 90.00 (0.00)\n",
        "2 in P2.\n",
        "cluster_30       2        68.8 (0.7 ) 149.9(0.6 ) 171.0(0.3 ) 88.06 (0.04) 88.10 (0.72) 87.82 (0.53)\n",
        "2 in P1.\n",
        "cluster_31       2        59.4 (10.7) 166.0(0.5 ) 72.1 (3.8 ) 90.00 (0.00) 100.57(1.86) 90.00 (0.00)\n",
        "2 in P2.\n",
        "cluster_32       3        67.2 (0.7 ) 168.3(0.3 ) 285.3(1.2 ) 90.00 (0.00) 93.03 (0.01) 90.00 (0.00)\n",
        "3 in P2.\n",
        "cluster_33       57       68.8 (0.6 ) 146.3(4.5 ) 169.4(4.3 ) 90.00 (0.00) 90.00 (0.43) 90.00 (0.00)\n",
        "55 in P222, 2 in P2.\n",
        "cluster_34      273       68.5 (0.5 ) 169.3(37.7) 287.9(38.1) 90.00 (0.00) 90.00 (0.36) 90.00 (0.00)\n",
        "243 in P222, 30 in P2.\n",
        "Standard deviations are in brackets.\n",
        "28 singletons:\n",
        "\n",
        " Point group   a           b           c           alpha        beta         gamma       \n",
        "C222           68.6        166.9       768.4      90.0         90.0         90.0        \n",
        "C222           69.7        168.6       757.2      90.0         90.0         90.0        \n",
        "C222           68.2        167.5       810.7      90.0         90.0         90.0        \n",
        "C2             68.3        168.6       762.7      93.3         90.0         90.0        \n",
        "P2             68.5        111.5       168.5      90.0         90.0         95.5        \n",
        "P2             68.4        148.8       169.7      90.0         90.8         90.0        \n",
        "P1             60.7        69.3        170.2      87.7         83.5         73.8        \n",
        "P1             67.4        85.1        167.7      86.9         88.2         84.9        \n",
        "P2             68.2        130.9       168.7      100.5        90.0         90.0        \n",
        "P1             67.0        166.0       283.8      93.2         92.7         92.8        \n",
        "P222           67.9        169.0       352.7      90.0         90.0         90.0        \n",
        "P222           68.3        168.5       336.9      90.0         90.0         90.0        \n",
        "P222           68.6        168.7       397.8      90.0         90.0         90.0        \n",
        "P222           68.7        169.2       375.9      90.0         90.0         90.0        \n",
        "P2             68.3        169.0       280.6      90.0         91.1         90.0        \n",
        "P2             68.9        166.6       247.2      90.0         93.4         90.0        \n",
        "P1             68.4        164.2       297.4      92.0         93.3         92.5        \n",
        "P2             67.3        169.0       286.7      90.0         94.0         90.0        \n",
        "P1             68.3        166.6       284.9      92.5         90.9         91.8        \n",
        "P1             70.1        170.0       230.5      104.9        94.8         93.1        \n",
        "P2             69.0        168.5       284.4      93.0         90.0         90.0        \n",
        "P2             66.4        164.1       290.1      90.0         90.0         94.0        \n",
        "P2             169.3       204.1       294.5      102.4        90.0         90.0        \n",
        "C2             54.8        70.7        334.4      90.0         90.0         96.3        \n",
        "C222           132.9       292.7       340.0      90.0         90.0         90.0        \n",
        "C222           70.2        168.6       638.4      90.0         90.0         90.0        \n",
        "C222           67.2        168.6       567.6      90.0         90.0         90.0        \n",
        "P2             167.2       354.2       397.6      99.9         90.0         90.0        \n",
        "\n"
       ]
      }
     ],
     "prompt_number": 6
    },
    {
     "cell_type": "markdown",
     "metadata": {},
     "source": [
      "So long_cell is cluster_34, and short_cell in cluster_33"
     ]
    },
    {
     "cell_type": "code",
     "collapsed": false,
     "input": [
      "for cluster in sub_clusters:\n",
      "    if cluster.cname == \"cluster_34\":\n",
      "        lc = cluster\n",
      "    if cluster.cname == \"cluster_33\":\n",
      "        sc = cluster\n",
      "print lc.medians, \"\\n\", sc.medians"
     ],
     "language": "python",
     "metadata": {},
     "outputs": [
      {
       "output_type": "stream",
       "stream": "stdout",
       "text": [
        "[68.53972662591984, 169.31881830521786, 287.89289106440555, 90.0, 90.0, 90.0] \n",
        "[68.78618875616064, 146.3459194002813, 169.4448094548329, 90.0, 90.0, 90.00000000000001]\n"
       ]
      }
     ],
     "prompt_number": 7
    },
    {
     "cell_type": "markdown",
     "metadata": {},
     "source": [
      "Ok, so we now have the clusters we are going to use as test data. Let's train some GDA on them."
     ]
    },
    {
     "cell_type": "code",
     "collapsed": false,
     "input": [
      "dflc = lc.to_pandas()\n",
      "dfsc = sc.to_pandas()\n",
      "dflc['type'] = 'long'\n",
      "dfsc['type'] = 'short'\n",
      "df = dflc.append(dfsc)"
     ],
     "language": "python",
     "metadata": {},
     "outputs": [
      {
       "output_type": "stream",
       "stream": "stderr",
       "text": [
        "/usr/local/bin/homebrew/Cellar/python/2.7.6/Frameworks/Python.framework/Versions/2.7/lib/python2.7/site-packages/pandas/io/excel.py:626: UserWarning: Installed openpyxl is not supported at this time. Use >=1.6.1 and <2.0.0.\n",
        "  .format(openpyxl_compat.start_ver, openpyxl_compat.stop_ver))\n"
       ]
      }
     ],
     "prompt_number": 8
    },
    {
     "cell_type": "code",
     "collapsed": false,
     "input": [
      "_ = df.boxplot(column=['a', 'b', 'c'], by='type', layout=(1, 3), figsize=(16,8))"
     ],
     "language": "python",
     "metadata": {},
     "outputs": [
      {
       "metadata": {},
       "output_type": "display_data",
       "png": "[encoded data removed]",
       "text": [
        "<matplotlib.figure.Figure at 0x109c52490>"
       ]
      }
     ],
     "prompt_number": 29
    },
    {
     "cell_type": "code",
     "collapsed": false,
     "input": [
      "features = df[['a', 'b', 'c']]\n",
      "features = features.astype(float).as_matrix()\n",
      "classes = df['type'] == 'short'\n",
      "from sklearn.lda import LDA\n",
      "lda = LDA()\n",
      "lda.fit(features, classes, store_covariance=True)"
     ],
     "language": "python",
     "metadata": {},
     "outputs": [
      {
       "metadata": {},
       "output_type": "pyout",
       "prompt_number": 30,
       "text": [
        "LDA(n_components=None, priors=None)"
       ]
      }
     ],
     "prompt_number": 30
    },
    {
     "cell_type": "code",
     "collapsed": false,
     "input": [
      "print lda.score(features, classes)\n",
      "print lda.means_\n",
      "print lda.covariance_"
     ],
     "language": "python",
     "metadata": {},
     "outputs": [
      {
       "output_type": "stream",
       "stream": "stdout",
       "text": [
        "1.0\n",
        "[[  68.48472664  169.09811474  288.90128633]\n",
        " [  68.70388672  146.36131884  169.41063192]]\n",
        "[[  0.2877655   -0.12118507  -0.04231526]\n",
        " [ -0.12118507   1.11335988   0.18286327]\n",
        " [ -0.04231526   0.18286327  20.77092382]]\n"
       ]
      }
     ],
     "prompt_number": 31
    },
    {
     "cell_type": "markdown",
     "metadata": {},
     "source": [
      "## 2. Ok, now let's try this on some per-crystal data"
     ]
    },
    {
     "cell_type": "code",
     "collapsed": false,
     "input": [
      "def is_target_1(cl, lda_ob, n_param=3, target1=lc.medians, target2=sc.medians, threshold=25000):\n",
      "    # filter to make sure they are within\n",
      "    good_images = []\n",
      "    for m in cl.members:\n",
      "        #if m.distance_from(target1) < threshold or m.distance_from(target2) < threshold:\n",
      "            good_images.append(m)\n",
      "    cl = Cluster(good_images)\n",
      "    features = np.transpose(cl.uc_feature_vector()[:3,])\n",
      "    probs = lda_ob.predict(features)\n",
      "    return int(sum(probs))"
     ],
     "language": "python",
     "metadata": {},
     "outputs": [],
     "prompt_number": 12
    },
    {
     "cell_type": "code",
     "collapsed": false,
     "input": [
      "def by_distance(cl, target1=lc.medians, target2=sc.medians):\n",
      "    # filter to make sure they are within\n",
      "    longcells = []\n",
      "    shortcells = []\n",
      "    for m in cl.members:\n",
      "        if m.distance_from(target1) < m.distance_from(target2):\n",
      "            longcells.append(m)\n",
      "        else:\n",
      "            shortcells.append(m)\n",
      "    return len(shortcells)\n"
     ],
     "language": "python",
     "metadata": {},
     "outputs": [],
     "prompt_number": 13
    },
    {
     "cell_type": "markdown",
     "metadata": {},
     "source": [
      "### Try using ALL intergration results per crystal "
     ]
    },
    {
     "cell_type": "code",
     "collapsed": false,
     "input": [
      "all_by_xtal = {}\n",
      "\n",
      "d1_root = \"/Volumes/Data/XFEL/SFC_May_2014_XPP/No_TARGET\"\n",
      "for dirpath, dname, fname in os.walk(d1_root):\n",
      "    if dirpath.endswith(\"best_by_strong\"):  \n",
      "        crystal = dirpath[53:55]\n",
      "        dewar = int(dirpath[51])\n",
      "        if dewar == 1:\n",
      "            dewar = '106'\n",
      "        elif dewar == 2:\n",
      "            dewar = '406'\n",
      "        else:\n",
      "            raise IOError \n",
      "        if fname:\n",
      "            all_by_xtal[dewar + crystal] = {'path': dirpath}\n"
     ],
     "language": "python",
     "metadata": {},
     "outputs": [],
     "prompt_number": 32
    },
    {
     "cell_type": "code",
     "collapsed": false,
     "input": [
      "t = '/Volumes/Data/XFEL/SFC_May_2014_XPP/No_TARGET/dewar2/C1/best_by_strong'\n",
      "t[53:55]"
     ],
     "language": "python",
     "metadata": {},
     "outputs": [
      {
       "metadata": {},
       "output_type": "pyout",
       "prompt_number": 21,
       "text": [
        "'C1'"
       ]
      }
     ],
     "prompt_number": 21
    },
    {
     "cell_type": "markdown",
     "metadata": {},
     "source": [
      "### Using LDA model"
     ]
    },
    {
     "cell_type": "code",
     "collapsed": false,
     "input": [
      "for xtal in all_by_xtal:\n",
      "    c = Cluster.from_directories([all_by_xtal[xtal]['path']])\n",
      "    if c.members:\n",
      "        c.cname = xtal\n",
      "        res = is_target_1(c, lda)\n",
      "        if res < len(c)/2:\n",
      "            cell = 'long'\n",
      "            n_correct = len(c) - res\n",
      "        else:\n",
      "            cell = 'short'\n",
      "            n_correct = res\n",
      "        all_by_xtal[xtal].update({'type': cell, 'n_int': len(c), 'n_correct_cell': n_correct, \n",
      "                                  'a': c.medians[0], 'a_sd': c.stdevs[0],\n",
      "                                  'b': c.medians[1], 'b_sd': c.stdevs[1],\n",
      "                                  'c': c.medians[2], 'c_sd': c.stdevs[2],\n",
      "                                  'alpha': c.medians[3], 'alpha_sd': c.stdevs[3],\n",
      "                                  'beta': c.medians[4], 'beta_sd': c.stdevs[4],\n",
      "                                  'gamma': c.medians[5], 'gamma_sd': c.stdevs[5],\n",
      "\n",
      "                                  })\n"
     ],
     "language": "python",
     "metadata": {},
     "outputs": [],
     "prompt_number": 23
    },
    {
     "cell_type": "markdown",
     "metadata": {},
     "source": [
      "### Using Distance (k-1 means clustering with AB distance)"
     ]
    },
    {
     "cell_type": "code",
     "collapsed": false,
     "input": [
      "for xtal in all_by_xtal:\n",
      "    c = Cluster.from_directories([all_by_xtal[xtal]['path']])\n",
      "    if c.members:\n",
      "        c.cname = xtal\n",
      "        res = by_distance(c)\n",
      "        if res < len(c)/2:\n",
      "            cell = 'long'            \n",
      "            n_correct = len(c) - res\n",
      "        else:\n",
      "            cell = 'short'\n",
      "            n_correct = res\n",
      "        all_by_xtal[xtal].update({'dist_type': cell, 'dist_n_correct_cell': n_correct})\n"
     ],
     "language": "python",
     "metadata": {},
     "outputs": [],
     "prompt_number": 24
    },
    {
     "cell_type": "code",
     "collapsed": false,
     "input": [
      "import json\n",
      "json.dump(all_by_xtal, open(\"dewar_labels.json\", 'wb'))"
     ],
     "language": "python",
     "metadata": {},
     "outputs": [],
     "prompt_number": 26
    }
   ],
   "metadata": {}
  }
 ]
}