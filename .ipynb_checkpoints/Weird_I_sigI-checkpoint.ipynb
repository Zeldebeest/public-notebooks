{
 "metadata": {
  "name": "",
  "signature": "sha256:332d6d8c65bb2ea8eadb54ddd7d1cc6f81c33d2bae6f91fc81cbbaa2cbd0ceab"
 },
 "nbformat": 3,
 "nbformat_minor": 0,
 "worksheets": [
  {
   "cells": [
    {
     "cell_type": "markdown",
     "metadata": {},
     "source": [
      "# Investigating SigI's that are smaller than sqrt(I)\n",
      "Some integration pickles:"
     ]
    },
    {
     "cell_type": "code",
     "collapsed": false,
     "input": [
      "from __future__ import division\n",
      "from xfel.clustering.cluster import Cluster\n",
      "from scitbx.array_family import flex"
     ],
     "language": "python",
     "metadata": {},
     "outputs": [],
     "prompt_number": 31
    },
    {
     "cell_type": "code",
     "collapsed": false,
     "input": [
      "clu = Cluster.from_directories(['/Users/zeldin/Dropbox/Stanford_Postdoc/CODING/cctbx_testing/100_L614_myo/'])"
     ],
     "language": "python",
     "metadata": {},
     "outputs": [],
     "prompt_number": 25
    },
    {
     "cell_type": "code",
     "collapsed": false,
     "input": [
      "def count_small_sigmas(mill):\n",
      "    \"\"\" count the number of sigmas smaller than sqrt(I) \"\"\"\n",
      "    count = 0\n",
      "    for i in zip(flex.sqrt(mill.data()), mill.sigmas()):\n",
      "        if i[0] < i[1]:\n",
      "            count += 1\n",
      "    return count / len(mill)"
     ],
     "language": "python",
     "metadata": {},
     "outputs": [],
     "prompt_number": 33
    },
    {
     "cell_type": "code",
     "collapsed": false,
     "input": [
      "for member in clu.members[:10]:\n",
      "   print \"{0:.2}\".format(count_small_sigmas(member.miller_array))"
     ],
     "language": "python",
     "metadata": {},
     "outputs": [
      {
       "output_type": "stream",
       "stream": "stdout",
       "text": [
        "0.51\n",
        "0.73\n",
        "0.57\n",
        "0.76\n",
        "0.82\n",
        "0.74\n",
        "0.84\n",
        "0.68\n",
        "0.52\n",
        "0.64\n"
       ]
      }
     ],
     "prompt_number": 36
    },
    {
     "cell_type": "markdown",
     "metadata": {},
     "source": [
      "So there are definitiely many sigmas bellow sqrtI. What does this mean?"
     ]
    }
   ],
   "metadata": {}
  }
 ]
}