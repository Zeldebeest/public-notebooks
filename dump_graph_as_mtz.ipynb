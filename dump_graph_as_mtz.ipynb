{
 "metadata": {
  "name": "",
  "signature": "sha256:3328316abd2709919b45ac63b625b5fc1d8ef7b422e3a3915cc568ccf14a8e61"
 },
 "nbformat": 3,
 "nbformat_minor": 0,
 "worksheets": [
  {
   "cells": [
    {
     "cell_type": "code",
     "collapsed": false,
     "input": [
      "# Ipython config\n",
      "%matplotlib inline\n",
      "from __future__ import division\n",
      "%load_ext autoreload\n",
      "%autoreload 2"
     ],
     "language": "python",
     "metadata": {},
     "outputs": [],
     "prompt_number": 1
    },
    {
     "cell_type": "code",
     "collapsed": false,
     "input": [
      "import numpy as np\n",
      "from xfel.clustering.cluster import Cluster\n",
      "from cctbx import miller\n",
      "from cctbx.crystal import symmetry\n",
      "from cctbx.array_family import flex"
     ],
     "language": "python",
     "metadata": {},
     "outputs": [],
     "prompt_number": 2
    },
    {
     "cell_type": "code",
     "collapsed": false,
     "input": [
      "!ls ~/Dropbox/Stanford_Postdoc/CODING/cctbx_testing/100_L614_myo | wc"
     ],
     "language": "python",
     "metadata": {},
     "outputs": [
      {
       "output_type": "stream",
       "stream": "stdout",
       "text": [
        "     100     100    2200\r\n"
       ]
      }
     ],
     "prompt_number": 3
    },
    {
     "cell_type": "code",
     "collapsed": false,
     "input": [
      "clu = Cluster.from_directories(['/Users/zeldin/Dropbox/Stanford_Postdoc/CODING/cctbx_testing/100_L614_myo'])"
     ],
     "language": "python",
     "metadata": {},
     "outputs": [],
     "prompt_number": 4
    },
    {
     "cell_type": "code",
     "collapsed": false,
     "input": [
      "len(clu)"
     ],
     "language": "python",
     "metadata": {},
     "outputs": [
      {
       "metadata": {},
       "output_type": "pyout",
       "prompt_number": 5,
       "text": [
        "100"
       ]
      }
     ],
     "prompt_number": 5
    },
    {
     "cell_type": "code",
     "collapsed": true,
     "input": [
      "assert all(( str(m.miller_array.space_group_info()) == str(clu.members[0].miller_array.space_group_info()) \n",
      "            for m in clu.members)), \"All images must be in the same point group!\"\n",
      "uc = clu.medians\n",
      "final_sym = symmetry(unit_cell=clu.medians, space_group_info=clu.members[0].miller_array.space_group_info())"
     ],
     "language": "python",
     "metadata": {},
     "outputs": [],
     "prompt_number": 6
    },
    {
     "cell_type": "code",
     "collapsed": false,
     "input": [
      "# Find mean_Iobs\n",
      "mil_dict = clu.merge_dict()"
     ],
     "language": "python",
     "metadata": {},
     "outputs": [],
     "prompt_number": 7
    },
    {
     "cell_type": "markdown",
     "metadata": {},
     "source": [
      "FYI, below is the code for the merge_dict, which creates a SingleMiller object:\n",
      "```\n",
      "class SingleMiller():\n",
      "  \"\"\" Class for representing multiple measurements of a single miller index. \"\"\"\n",
      "  def __init__(self, index, resolution):\n",
      "    self.index = index\n",
      "    self.resolution = resolution\n",
      "    self.intensities = []\n",
      "    self.sigmas = []\n",
      "\n",
      "  def add_obs(self, intensity, sigma):\n",
      "    \"\"\" Add an observation of the miller index \"\"\"\n",
      "    self.intensities.append(intensity)\n",
      "    self.sigmas.append(sigma)\n",
      "\n",
      "  def weighted_mean_and_std(self):\n",
      "    \"\"\" return the mean of the observations, weighted by 1/sigmas.\n",
      "    :return: [weighted_mean, weighted_std_dev]\n",
      "    \"\"\"\n",
      "    intensities = np.array(self.intensities)\n",
      "    weights = 1/np.array(self.sigmas)\n",
      "    w_mean = np.average(intensities, weights=weights)\n",
      "    w_std = np.sqrt(np.average((intensities - w_mean)**2, weights=weights))\n",
      "    return w_mean, w_std\n",
      "\n",
      "  def nobs(self):\n",
      "    \"\"\" return how many observations of index exist \"\"\"\n",
      "    return len(self.intensities)\n",
      "```\n",
      "And the method clu.merge_dict:\n",
      "```\n",
      "  def merge_dict(self):\n",
      "    \"\"\" Make a dict of Miller indices with  {miller index: SingleMiller object} key-value pairs for each miller index.\n",
      "    \"\"\"\n",
      "\n",
      "    miller_dict = {}\n",
      "    for m in self.members:\n",
      "      miller_array = m.miller_array\n",
      "      d_spacings = list(miller_array.d_spacings().data())\n",
      "      miller_indeces = list(miller_array.indices())\n",
      "      miller_intensities = list(miller_array.data())\n",
      "      miller_sigmas = list(miller_array.sigmas())\n",
      "\n",
      "      for observation in zip(miller_indeces,\n",
      "                             miller_intensities,\n",
      "                             miller_sigmas,\n",
      "                             d_spacings):\n",
      "        try:\n",
      "          miller_dict[observation[0]].add_obs(observation[1],\n",
      "                                              observation[2])\n",
      "        except KeyError:\n",
      "          miller_dict[observation[0]] = SingleMiller(observation[0],\n",
      "                                                     observation[3])\n",
      "          miller_dict[observation[0]].add_obs(observation[1],\n",
      "                                              observation[2])\n",
      "    return miller_dict\n",
      "```"
     ]
    },
    {
     "cell_type": "code",
     "collapsed": false,
     "input": [
      "single_millers = mil_dict.values()\n",
      "indices = [md.index for md in single_millers]\n",
      "iobs, sig_iobs = zip(*[md.weighted_mean_and_std() for md in single_millers])"
     ],
     "language": "python",
     "metadata": {},
     "outputs": [],
     "prompt_number": 8
    },
    {
     "cell_type": "code",
     "collapsed": false,
     "input": [
      "all_obs = miller.array(miller_set=clu.members[0].miller_array.customized_copy(crystal_symmetry=final_sym, \n",
      "                                                                              indices=flex.miller_index(indices), \n",
      "                                                                              unit_cell=clu.medians),\n",
      "                       data = flex.double(iobs),\n",
      "                       sigmas = flex.double(sig_iobs)).set_observation_type_xray_intensity().average_bijvoet_mates()"
     ],
     "language": "python",
     "metadata": {},
     "outputs": [],
     "prompt_number": 9
    },
    {
     "cell_type": "code",
     "collapsed": false,
     "input": [
      "mtz_file = \"test.mtz\"\n",
      "all_obs = all_obs.select(all_obs.data() > 0)\n",
      "mtz_out = all_obs.as_mtz_dataset(column_root_label=\"Iobs\",\n",
      "                                 title=clu.cname,\n",
      "                                 wavelength=np.median([m.wavelength for m in clu.members]))\n",
      "mtz_out.add_miller_array(miller_array=all_obs,\n",
      "                         column_root_label=\"IMEAN\")\n",
      "mtz_obj = mtz_out.mtz_object()\n",
      "mtz_obj.write(mtz_file)\n",
      "print all_obs.show_summary()"
     ],
     "language": "python",
     "metadata": {},
     "outputs": [
      {
       "output_type": "stream",
       "stream": "stdout",
       "text": [
        "Miller array info: None\n",
        "Observation type: xray.intensity\n",
        "Type of data: double, size=31680\n",
        "Type of sigmas: double, size=31680\n",
        "Number of Miller indices: 31680\n",
        "Anomalous flag: False\n",
        "Unit cell: (90.3962, 90.3962, 45.2853, 90, 90, 120)\n",
        "Space group: P 3 (No. 143)\n",
        "<cctbx.miller.array object at 0x115603fd0>\n"
       ]
      }
     ],
     "prompt_number": 10
    }
   ],
   "metadata": {}
  }
 ]
}