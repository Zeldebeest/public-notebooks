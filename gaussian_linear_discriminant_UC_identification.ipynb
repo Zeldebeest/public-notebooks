{
 "metadata": {
  "name": "",
  "signature": "sha256:36bf7a8bb5ecb62fb755da38817e1e91563af90d1d48f4e26de34666f94b2d5d"
 },
 "nbformat": 3,
 "nbformat_minor": 0,
 "worksheets": [
  {
   "cells": [
    {
     "cell_type": "markdown",
     "metadata": {},
     "source": [
      "I'm going to use linear discriminant analysis, trained on the clustering results for long/short to clasify each image as long/short cell. Errors should be fairly gaussian, so it should be good."
     ]
    },
    {
     "cell_type": "markdown",
     "metadata": {},
     "source": [
      "## 1. Training an LDA model on the clustering data"
     ]
    },
    {
     "cell_type": "code",
     "collapsed": false,
     "input": [
      "from __future__ import division\n",
      "%load_ext autoreload\n",
      "%autoreload 2\n",
      "no_target = [\"/Volumes/Data/zeldin/DATA_for_Data_Exploration_Paper/no_target\"]"
     ],
     "language": "python",
     "metadata": {},
     "outputs": [],
     "prompt_number": 1
    },
    {
     "cell_type": "code",
     "collapsed": false,
     "input": [
      "import logging\n",
      "import os\n",
      "import numpy as np\n",
      "import matplotlib.pyplot as plt\n",
      "import logging\n",
      "import brewer2mpl\n",
      "# Set up logging\n",
      "reload(logging)  # work-around for IPython\n",
      "FORMAT = '%(message)s'\n",
      "logging.basicConfig(level=logging.INFO, format=FORMAT)\n",
      "# pretty colors\n",
      "cols = brewer2mpl.get_map('BrBG', 'Diverging', 3).mpl_colors\n",
      "from xfel.clustering.cluster import Cluster\n",
      "from xfel.clustering.cluster import SingleFrame\n",
      "from xfel.clustering.cluster_groups import unit_cell_info"
     ],
     "language": "python",
     "metadata": {},
     "outputs": [],
     "prompt_number": 2
    },
    {
     "cell_type": "code",
     "collapsed": false,
     "input": [
      "clu_all = Cluster.from_directories(no_target)"
     ],
     "language": "python",
     "metadata": {},
     "outputs": [],
     "prompt_number": 3
    },
    {
     "cell_type": "code",
     "collapsed": false,
     "input": [
      "sub_clusters, _ = clu_all.ab_cluster(10000)"
     ],
     "language": "python",
     "metadata": {},
     "outputs": [
      {
       "output_type": "stream",
       "stream": "stderr",
       "text": [
        "Hierarchical clustering of unit cells\n"
       ]
      },
      {
       "output_type": "stream",
       "stream": "stderr",
       "text": [
        "Using Andrews-Bernstein distance from Andrews & Bernstein J Appl Cryst 47:346 (2014)\n"
       ]
      },
      {
       "output_type": "stream",
       "stream": "stderr",
       "text": [
        "Distances have been calculated\n"
       ]
      },
      {
       "metadata": {},
       "output_type": "display_data",
       "png": "[encoded data removed]",
       "text": [
        "<matplotlib.figure.Figure at 0x112b9d910>"
       ]
      }
     ],
     "prompt_number": 4
    },
    {
     "cell_type": "code",
     "collapsed": false,
     "input": [
      "from xfel.clustering.cluster_groups import unit_cell_info\n",
      "print unit_cell_info(sub_clusters)"
     ],
     "language": "python",
     "metadata": {},
     "outputs": [
      {
       "output_type": "stream",
       "stream": "stdout",
       "text": [
        "30 clusters.\n",
        "C_id  Num in cluster Med_a       Med_b       Med_c       Med_alpha    Med_beta     Med_gamma   \n",
        "cluster_21       2        70.5 (0.3 ) 167.8(1.3 ) 298.3(6.9 ) 90.00 (0.00) 94.03 (0.07) 90.00 (0.00)\n",
        "2 in P2.\n",
        "cluster_22       2        232.9(4.6 ) 245.3(3.1 ) 67.7 (0.0 ) 90.00 (0.00) 92.88 (0.07) 90.00 (0.00)\n",
        "2 in C2.\n",
        "cluster_23       2        67.6 (2.4 ) 287.6(1.9 ) 173.1(3.3 ) 90.00 (0.00) 93.29 (0.16) 90.00 (0.00)\n",
        "2 in P2.\n",
        "cluster_24       2        167.9(0.7 ) 68.9 (0.0 ) 286.5(1.5 ) 90.00 (0.00) 90.93 (0.15) 90.00 (0.00)\n",
        "2 in P2.\n",
        "cluster_25       2        77.9 (7.8 ) 117.3(48.2) 121.8(45.9) 90.00 (0.00) 99.52 (2.91) 90.00 (0.00)\n",
        "2 in P2.\n",
        "cluster_26       3        169.4(0.3 ) 68.6 (0.1 ) 289.1(1.0 ) 90.00 (0.00) 89.74 (0.34) 90.00 (0.00)\n",
        "3 in P2.\n",
        "cluster_27       3        69.9 (1.1 ) 168.5(1.9 ) 153.7(1.1 ) 90.00 (0.00) 94.41 (0.28) 90.00 (0.00)\n",
        "3 in P2.\n",
        "cluster_28       4        68.3 (1.0 ) 169.5(1.4 ) 284.9(2.7 ) 90.00 (0.00) 90.72 (0.88) 90.00 (0.00)\n",
        "4 in P2.\n",
        "cluster_29       75       68.8 (10.0) 146.2(14.5) 169.5(5.5 ) 90.00 (0.00) 90.00 (2.31) 90.00 (0.00)\n",
        "67 in P222, 8 in P2.\n",
        "cluster_30      252       68.6 (6.6 ) 169.2(25.9) 288.2(25.9) 90.00 (0.00) 90.00 (0.27) 90.00 (0.00)\n",
        "239 in P222, 13 in P2.\n",
        "Standard deviations are in brackets.\n",
        "20 singletons:\n",
        "\n",
        " Point group   a           b           c           alpha        beta         gamma       \n",
        "C2             62.9        167.8       563.2      90.0         90.0         93.3        \n",
        "C222           65.9        168.2       556.5      90.0         90.0         90.0        \n",
        "C222           69.4        164.7       501.1      90.0         90.0         90.0        \n",
        "P1             67.0        166.5       268.3      92.0         94.2         92.5        \n",
        "P1             66.7        166.9       283.0      92.3         93.4         92.5        \n",
        "P1             79.9        173.1       289.4      87.4         85.7         82.5        \n",
        "P2             67.5        147.3       165.1      90.0         95.2         90.0        \n",
        "P1             70.1        152.3       171.0      86.9         86.7         87.1        \n",
        "P1             41.7        61.9        165.6      87.3         87.4         84.8        \n",
        "P2             67.7        145.6       169.6      90.5         90.0         90.0        \n",
        "P1             54.0        67.4        154.9      85.0         86.5         76.7        \n",
        "P1             71.2        173.8       182.5      114.5        100.3        94.9        \n",
        "P222           69.8        166.9       215.8      90.0         90.0         90.0        \n",
        "P2             68.7        166.9       200.2      90.0         94.3         90.0        \n",
        "P1             67.0        164.9       270.9      93.0         93.9         92.9        \n",
        "P1             66.2        133.0       167.6      94.8         93.4         97.9        \n",
        "P2             68.8        160.7       288.3      92.6         90.0         90.0        \n",
        "C2             68.9        167.7       217.4      99.6         90.0         90.0        \n",
        "C2             65.6        290.9       318.1      93.2         90.0         90.0        \n",
        "I222           68.5        159.4       772.2      90.0         90.0         90.0        \n",
        "\n"
       ]
      }
     ],
     "prompt_number": 5
    },
    {
     "cell_type": "markdown",
     "metadata": {},
     "source": [
      "So long_cell is cluster_30, and short_cell in cluster_29"
     ]
    },
    {
     "cell_type": "code",
     "collapsed": false,
     "input": [
      "for cluster in sub_clusters:\n",
      "    if cluster.cname == \"cluster_30\":\n",
      "        lc = cluster\n",
      "    if cluster.cname == \"cluster_29\":\n",
      "        sc = cluster\n",
      "print lc.medians, \"\\n\", sc.medians"
     ],
     "language": "python",
     "metadata": {},
     "outputs": [
      {
       "output_type": "stream",
       "stream": "stdout",
       "text": [
        "[68.56899236567753, 169.230375072626, 288.16104199650215, 90.0, 90.0, 90.0] \n",
        "[68.80467841894347, 146.18431669062807, 169.53519150326724, 90.0, 90.0, 90.0]\n"
       ]
      }
     ],
     "prompt_number": 6
    },
    {
     "cell_type": "markdown",
     "metadata": {},
     "source": [
      "Ok, so we now have the clusters we are going to use as test data. Let's train some GDA on them."
     ]
    },
    {
     "cell_type": "code",
     "collapsed": false,
     "input": [
      "lc_uc = [c.uc for c in lc.members]\n",
      "sc_uc = [c.uc for c in sc.members]"
     ],
     "language": "python",
     "metadata": {},
     "outputs": [],
     "prompt_number": 7
    },
    {
     "cell_type": "code",
     "collapsed": false,
     "input": [
      "for i, dat in enumerate(zip(zip(*lc_uc[:5]), zip(*sc_uc[:5]))):\n",
      "    a, b = dat\n",
      "    print i, a, b, \"\\n\""
     ],
     "language": "python",
     "metadata": {},
     "outputs": [
      {
       "output_type": "stream",
       "stream": "stdout",
       "text": [
        "0 (68.6160778881238, 68.7762974893848, 68.54704808493213, 67.96747735526345, 68.35064620285311) (68.44707692617047, 64.57770082074792, 69.221885730956, 68.84496854240064, 68.89667623756763) \n",
        "\n",
        "1 (168.2058290189797, 168.98612237573312, 169.69484684051056, 169.69312363711876, 168.91066697758816) (144.40533324682227, 146.52380757168663, 147.9647696191055, 147.3898405243639, 146.82508591091704) \n",
        "\n",
        "2 (295.8451778268334, 287.6841446082988, 287.7883482301654, 294.3595875634611, 288.421087441123) (169.4967035708561, 171.21190766400034, 166.70036143832746, 169.13436463940081, 173.37628017699242) \n",
        "\n",
        "3 (90.0, 90.0, 90.0, 90.0, 90.0) (90.0, 90.0, 90.0, 90.0, 90.0) \n",
        "\n",
        "4 (90.0, 90.0, 90.0, 90.0, 90.0) (90.0, 90.0, 90.20918614502042, 90.0, 90.0) \n",
        "\n",
        "5 (90.0, 90.0, 90.0, 90.0, 90.0) (90.0, 90.0, 90.0, 90.0, 90.0) \n",
        "\n"
       ]
      }
     ],
     "prompt_number": 8
    },
    {
     "cell_type": "code",
     "collapsed": false,
     "input": [
      "f, axs = plt.subplots(2, 3, figsize=(12,8))\n",
      "\n",
      "for i, dat in enumerate(zip(zip(*lc_uc), zip(*sc_uc))):  # have grouped the unit cells by a, b, c...\n",
      "    dat_lc, dat_sc = dat\n",
      "    axs[i // 3, i % 3].hist(dat_lc, color=cols[0], alpha=0.9)\n",
      "    axs[i // 3, i % 3].hist(dat_sc, color=cols[2], alpha=0.5)\n"
     ],
     "language": "python",
     "metadata": {},
     "outputs": [
      {
       "metadata": {},
       "output_type": "display_data",
       "png": "[encoded data removed]",
       "text": [
        "<matplotlib.figure.Figure at 0x10d84bc10>"
       ]
      }
     ],
     "prompt_number": 9
    },
    {
     "cell_type": "markdown",
     "metadata": {},
     "source": [
      "Skipping to the chase, let's just use (a,b,c) for the LDA.\n",
      "** 0 is long cell, 1 is short cell **"
     ]
    },
    {
     "cell_type": "code",
     "collapsed": false,
     "input": [
      "lc_features = np.array(zip(*lc_uc)[:3])\n",
      "sc_features = np.array(zip(*sc_uc)[:3])\n",
      "\n",
      "features = np.transpose(np.concatenate((lc_features, sc_features), axis=1))\n",
      "classes = np.concatenate((np.zeros(len(lc_features[1,:])), np.ones(len(sc_features[1,:]))))\n"
     ],
     "language": "python",
     "metadata": {},
     "outputs": [],
     "prompt_number": 10
    },
    {
     "cell_type": "code",
     "collapsed": false,
     "input": [
      "from sklearn.lda import LDA\n",
      "lda = LDA()\n",
      "lda.fit(features, classes, store_covariance=True)"
     ],
     "language": "python",
     "metadata": {},
     "outputs": [
      {
       "metadata": {},
       "output_type": "pyout",
       "prompt_number": 11,
       "text": [
        "LDA(n_components=None, priors=None)"
       ]
      }
     ],
     "prompt_number": 11
    },
    {
     "cell_type": "code",
     "collapsed": false,
     "input": [
      "print lda.score(features, classes)\n",
      "print lda.means_\n",
      "print lda.covariance_"
     ],
     "language": "python",
     "metadata": {},
     "outputs": [
      {
       "output_type": "stream",
       "stream": "stdout",
       "text": [
        "1.0\n",
        "[[  68.44254417  169.08439003  288.49334277]\n",
        " [  68.46601871  145.63654923  169.40426531]]\n",
        "[[  1.26762721  -0.08018365   1.19092555]\n",
        " [ -0.08018365   4.7029091   -0.15442163]\n",
        " [  1.19092555  -0.15442163  18.88526461]]\n"
       ]
      }
     ],
     "prompt_number": 70
    },
    {
     "cell_type": "markdown",
     "metadata": {},
     "source": [
      "## 2. Ok, now let's try this on some per-crystal data"
     ]
    },
    {
     "cell_type": "code",
     "collapsed": false,
     "input": [
      "def is_target_1(cl, lda_ob, n_param=3, target1=lc.medians, target2=sc.medians, threshold=25000):\n",
      "    # filter to make sure they are within\n",
      "    good_images = []\n",
      "    for m in cl.members:\n",
      "        #if m.distance_from(target1) < threshold or m.distance_from(target2) < threshold:\n",
      "            good_images.append(m)\n",
      "    cl = Cluster(good_images)\n",
      "    features = np.transpose(cl.uc_feature_vector()[:3,])\n",
      "    probs = lda_ob.predict(features)\n",
      "    return int(sum(probs))"
     ],
     "language": "python",
     "metadata": {},
     "outputs": [],
     "prompt_number": 79
    },
    {
     "cell_type": "code",
     "collapsed": false,
     "input": [
      "def by_distance(cl, target1=lc.medians, target2=sc.medians):\n",
      "    # filter to make sure they are within\n",
      "    longcells = []\n",
      "    shortcells = []\n",
      "    for m in cl.members:\n",
      "        if m.distance_from(target1) < m.distance_from(target2):\n",
      "            longcells.append(m)\n",
      "        else:\n",
      "            shortcells.append(m)\n",
      "    return len(shortcells)\n"
     ],
     "language": "python",
     "metadata": {},
     "outputs": [],
     "prompt_number": 87
    },
    {
     "cell_type": "markdown",
     "metadata": {},
     "source": [
      "### Try using ALL intergration results per crystal "
     ]
    },
    {
     "cell_type": "code",
     "collapsed": false,
     "input": [
      "all_by_xtal = {}\n",
      "\n",
      "d1_root = \"/Volumes/Data/XFEL/SFC_May_2014_XPP/data/grid_search/dewar1\"\n",
      "for dirpath, dname, fname in os.walk(d1_root):\n",
      "    if dirpath[63:77] == \"gs_results/tmp\":  \n",
      "        crystal = dirpath[60:62]\n",
      "        if fname:\n",
      "            if crystal not in all_by_xtal:\n",
      "                all_by_xtal[crystal] = [dirpath]\n",
      "            else:\n",
      "                all_by_xtal[crystal].append(dirpath)\n"
     ],
     "language": "python",
     "metadata": {},
     "outputs": [],
     "prompt_number": 84
    },
    {
     "cell_type": "markdown",
     "metadata": {},
     "source": [
      "### Using LDA model"
     ]
    },
    {
     "cell_type": "code",
     "collapsed": false,
     "input": [
      "for xtal in all_by_xtal:\n",
      "    c = Cluster.from_directories(all_by_xtal[xtal])\n",
      "    if c.members:\n",
      "        c.cname = xtal\n",
      "        res = is_target_1(c, lda)\n",
      "        if res < len(c)/2:\n",
      "           print \"{} is long cell: {}/{} images in long cell\".format(xtal, len(c) - res, len(c))\n",
      "        else:\n",
      "           print \"{} is short cell: {}/{} images in short cell\".format(xtal, res, len(c))"
     ],
     "language": "python",
     "metadata": {},
     "outputs": [
      {
       "output_type": "stream",
       "stream": "stdout",
       "text": [
        "K7 is long cell: 312/314 images in long cell\n",
        "K5 is long cell: 197/198 images in long cell"
       ]
      },
      {
       "output_type": "stream",
       "stream": "stdout",
       "text": [
        "\n",
        "K8 is long cell: 573/576 images in long cell"
       ]
      },
      {
       "output_type": "stream",
       "stream": "stdout",
       "text": [
        "\n",
        "G7 is short cell: 490/491 images in short cell"
       ]
      },
      {
       "output_type": "stream",
       "stream": "stdout",
       "text": [
        "\n",
        "I8 is long cell: 70/72 images in long cell"
       ]
      },
      {
       "output_type": "stream",
       "stream": "stdout",
       "text": [
        "\n",
        "G4 is long cell: 118/118 images in long cell"
       ]
      },
      {
       "output_type": "stream",
       "stream": "stdout",
       "text": [
        "\n",
        "I3 is long cell: 112/112 images in long cell"
       ]
      },
      {
       "output_type": "stream",
       "stream": "stdout",
       "text": [
        "\n",
        "I2 is long cell: 80/80 images in long cell"
       ]
      },
      {
       "output_type": "stream",
       "stream": "stdout",
       "text": [
        "\n",
        "G8 is short cell: 747/780 images in short cell"
       ]
      },
      {
       "output_type": "stream",
       "stream": "stdout",
       "text": [
        "\n",
        "C8 is long cell: 408/409 images in long cell"
       ]
      },
      {
       "output_type": "stream",
       "stream": "stdout",
       "text": [
        "\n",
        "E1 is long cell: 201/201 images in long cell"
       ]
      },
      {
       "output_type": "stream",
       "stream": "stdout",
       "text": [
        "\n",
        "C5 is long cell: 489/489 images in long cell"
       ]
      },
      {
       "output_type": "stream",
       "stream": "stdout",
       "text": [
        "\n",
        "C4 is short cell: 493/506 images in short cell"
       ]
      },
      {
       "output_type": "stream",
       "stream": "stdout",
       "text": [
        "\n",
        "L6 is long cell: 72/72 images in long cell"
       ]
      },
      {
       "output_type": "stream",
       "stream": "stdout",
       "text": [
        "\n",
        "L4 is long cell: 175/175 images in long cell"
       ]
      },
      {
       "output_type": "stream",
       "stream": "stdout",
       "text": [
        "\n",
        "L2 is long cell: 54/54 images in long cell"
       ]
      },
      {
       "output_type": "stream",
       "stream": "stdout",
       "text": [
        "\n",
        "L3 is long cell: 48/53 images in long cell"
       ]
      },
      {
       "output_type": "stream",
       "stream": "stdout",
       "text": [
        "\n",
        "J8 is long cell: 146/148 images in long cell"
       ]
      },
      {
       "output_type": "stream",
       "stream": "stdout",
       "text": [
        "\n",
        "F1 is short cell: 433/433 images in short cell"
       ]
      },
      {
       "output_type": "stream",
       "stream": "stdout",
       "text": [
        "\n",
        "F3 is long cell: 171/172 images in long cell"
       ]
      },
      {
       "output_type": "stream",
       "stream": "stdout",
       "text": [
        "\n",
        "F4 is long cell: 473/473 images in long cell"
       ]
      },
      {
       "output_type": "stream",
       "stream": "stdout",
       "text": [
        "\n",
        "F5 is long cell: 84/84 images in long cell"
       ]
      },
      {
       "output_type": "stream",
       "stream": "stdout",
       "text": [
        "\n",
        "F8 is long cell: 358/358 images in long cell"
       ]
      },
      {
       "output_type": "stream",
       "stream": "stdout",
       "text": [
        "\n",
        "C7 is long cell: 281/281 images in long cell"
       ]
      },
      {
       "output_type": "stream",
       "stream": "stdout",
       "text": [
        "\n",
        "J1 is long cell: 175/175 images in long cell"
       ]
      },
      {
       "output_type": "stream",
       "stream": "stdout",
       "text": [
        "\n",
        "J3 is long cell: 164/164 images in long cell"
       ]
      },
      {
       "output_type": "stream",
       "stream": "stdout",
       "text": [
        "\n",
        "J5 is short cell: 61/117 images in short cell"
       ]
      },
      {
       "output_type": "stream",
       "stream": "stdout",
       "text": [
        "\n",
        "D7 is long cell: 477/479 images in long cell"
       ]
      },
      {
       "output_type": "stream",
       "stream": "stdout",
       "text": [
        "\n",
        "D4 is long cell: 405/407 images in long cell"
       ]
      },
      {
       "output_type": "stream",
       "stream": "stdout",
       "text": [
        "\n",
        "D2 is long cell: 278/281 images in long cell"
       ]
      },
      {
       "output_type": "stream",
       "stream": "stdout",
       "text": [
        "\n"
       ]
      }
     ],
     "prompt_number": 85
    },
    {
     "cell_type": "markdown",
     "metadata": {},
     "source": [
      "### Using Distance (k-1 means clustering with AB distance)"
     ]
    },
    {
     "cell_type": "code",
     "collapsed": false,
     "input": [
      "for xtal in all_by_xtal:\n",
      "    c = Cluster.from_directories(all_by_xtal[xtal])\n",
      "    if c.members:\n",
      "        c.cname = xtal\n",
      "        res = by_distance(c)\n",
      "        if res < len(c)/2:\n",
      "           print \"{} is long cell: {}/{} images in long cell\".format(xtal, len(c) - res, len(c))\n",
      "        else:\n",
      "           print \"{} is short cell: {}/{} images in short cell\".format(xtal, res, len(c))"
     ],
     "language": "python",
     "metadata": {},
     "outputs": [
      {
       "output_type": "stream",
       "stream": "stdout",
       "text": [
        "K7 is long cell: 310/314 images in long cell\n",
        "K5 is long cell: 197/198 images in long cell"
       ]
      },
      {
       "output_type": "stream",
       "stream": "stdout",
       "text": [
        "\n",
        "K8 is long cell: 574/576 images in long cell"
       ]
      },
      {
       "output_type": "stream",
       "stream": "stdout",
       "text": [
        "\n",
        "G7 is short cell: 490/491 images in short cell"
       ]
      },
      {
       "output_type": "stream",
       "stream": "stdout",
       "text": [
        "\n",
        "I8 is long cell: 70/72 images in long cell"
       ]
      },
      {
       "output_type": "stream",
       "stream": "stdout",
       "text": [
        "\n",
        "G4 is long cell: 118/118 images in long cell"
       ]
      },
      {
       "output_type": "stream",
       "stream": "stdout",
       "text": [
        "\n",
        "I3 is long cell: 112/112 images in long cell"
       ]
      },
      {
       "output_type": "stream",
       "stream": "stdout",
       "text": [
        "\n",
        "I2 is long cell: 80/80 images in long cell"
       ]
      },
      {
       "output_type": "stream",
       "stream": "stdout",
       "text": [
        "\n",
        "G8 is short cell: 746/780 images in short cell"
       ]
      },
      {
       "output_type": "stream",
       "stream": "stdout",
       "text": [
        "\n",
        "C8 is long cell: 408/409 images in long cell"
       ]
      },
      {
       "output_type": "stream",
       "stream": "stdout",
       "text": [
        "\n",
        "E1 is long cell: 201/201 images in long cell"
       ]
      },
      {
       "output_type": "stream",
       "stream": "stdout",
       "text": [
        "\n",
        "C5 is long cell: 489/489 images in long cell"
       ]
      },
      {
       "output_type": "stream",
       "stream": "stdout",
       "text": [
        "\n",
        "C4 is short cell: 493/506 images in short cell"
       ]
      },
      {
       "output_type": "stream",
       "stream": "stdout",
       "text": [
        "\n",
        "L6 is long cell: 72/72 images in long cell"
       ]
      },
      {
       "output_type": "stream",
       "stream": "stdout",
       "text": [
        "\n",
        "L4 is long cell: 175/175 images in long cell"
       ]
      },
      {
       "output_type": "stream",
       "stream": "stdout",
       "text": [
        "\n",
        "L2 is long cell: 54/54 images in long cell"
       ]
      },
      {
       "output_type": "stream",
       "stream": "stdout",
       "text": [
        "\n",
        "L3 is long cell: 48/53 images in long cell"
       ]
      },
      {
       "output_type": "stream",
       "stream": "stdout",
       "text": [
        "\n",
        "J8 is long cell: 148/148 images in long cell"
       ]
      },
      {
       "output_type": "stream",
       "stream": "stdout",
       "text": [
        "\n",
        "F1 is short cell: 433/433 images in short cell"
       ]
      },
      {
       "output_type": "stream",
       "stream": "stdout",
       "text": [
        "\n",
        "F3 is long cell: 169/172 images in long cell"
       ]
      },
      {
       "output_type": "stream",
       "stream": "stdout",
       "text": [
        "\n",
        "F4 is long cell: 473/473 images in long cell"
       ]
      },
      {
       "output_type": "stream",
       "stream": "stdout",
       "text": [
        "\n",
        "F5 is long cell: 84/84 images in long cell"
       ]
      },
      {
       "output_type": "stream",
       "stream": "stdout",
       "text": [
        "\n",
        "F8 is long cell: 358/358 images in long cell"
       ]
      },
      {
       "output_type": "stream",
       "stream": "stdout",
       "text": [
        "\n",
        "C7 is long cell: 281/281 images in long cell"
       ]
      },
      {
       "output_type": "stream",
       "stream": "stdout",
       "text": [
        "\n",
        "J1 is long cell: 175/175 images in long cell"
       ]
      },
      {
       "output_type": "stream",
       "stream": "stdout",
       "text": [
        "\n",
        "J3 is long cell: 164/164 images in long cell"
       ]
      },
      {
       "output_type": "stream",
       "stream": "stdout",
       "text": [
        "\n",
        "J5 is short cell: 61/117 images in short cell"
       ]
      },
      {
       "output_type": "stream",
       "stream": "stdout",
       "text": [
        "\n",
        "D7 is long cell: 476/479 images in long cell"
       ]
      },
      {
       "output_type": "stream",
       "stream": "stdout",
       "text": [
        "\n",
        "D4 is long cell: 405/407 images in long cell"
       ]
      },
      {
       "output_type": "stream",
       "stream": "stdout",
       "text": [
        "\n",
        "D2 is long cell: 278/281 images in long cell"
       ]
      },
      {
       "output_type": "stream",
       "stream": "stdout",
       "text": [
        "\n"
       ]
      }
     ],
     "prompt_number": 88
    },
    {
     "cell_type": "code",
     "collapsed": false,
     "input": [],
     "language": "python",
     "metadata": {},
     "outputs": []
    }
   ],
   "metadata": {}
  }
 ]
}