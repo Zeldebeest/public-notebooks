{
 "metadata": {
  "name": "",
  "signature": "sha256:a25620c1a5996c6046cd3d6c5560ce84a4709a2b96e9e4e531304c3e32ad3277"
 },
 "nbformat": 3,
 "nbformat_minor": 0,
 "worksheets": [
  {
   "cells": [
    {
     "cell_type": "markdown",
     "metadata": {},
     "source": [
      "I'm going to use linear discriminant analysis, trained on the clustering results for long/short to clasify each image as long/short cell. Errors should be fairly gaussian, so it should be good."
     ]
    },
    {
     "cell_type": "markdown",
     "metadata": {},
     "source": [
      "## 1. Training an LDA model on the clustering data"
     ]
    },
    {
     "cell_type": "code",
     "collapsed": false,
     "input": [
      "from __future__ import division\n",
      "%load_ext autoreload\n",
      "%autoreload 2\n",
      "no_target = [\"/Volumes/Data/XFEL/SFC_May_2014_XPP/No_TARGET\"]"
     ],
     "language": "python",
     "metadata": {},
     "outputs": [
      {
       "output_type": "stream",
       "stream": "stdout",
       "text": [
        "The autoreload extension is already loaded. To reload it, use:\n",
        "  %reload_ext autoreload\n"
       ]
      }
     ],
     "prompt_number": 33
    },
    {
     "cell_type": "code",
     "collapsed": false,
     "input": [
      "!ls /Volumes/Data/XFEL/SFC_May_2014_XPP/No_TARGET/*/*/best_by_strong | wc\n",
      "!ls /Volumes/Data/zeldin/DATA_for_Data_Exploration_Paper/no_target | wc"
     ],
     "language": "python",
     "metadata": {},
     "outputs": [
      {
       "output_type": "stream",
       "stream": "stdout",
       "text": [
        "     765     656   40870\r\n"
       ]
      },
      {
       "output_type": "stream",
       "stream": "stdout",
       "text": [
        "     367     367   19818\r\n"
       ]
      }
     ],
     "prompt_number": 34
    },
    {
     "cell_type": "code",
     "collapsed": false,
     "input": [
      "import logging\n",
      "import os\n",
      "import numpy as np\n",
      "import matplotlib.pyplot as plt\n",
      "import logging\n",
      "import brewer2mpl\n",
      "# Set up logging\n",
      "reload(logging)  # work-around for IPython\n",
      "FORMAT = '%(message)s'\n",
      "logging.basicConfig(level=logging.INFO, format=FORMAT)\n",
      "# pretty colors\n",
      "cols = brewer2mpl.get_map('BrBG', 'Diverging', 3).mpl_colors\n",
      "from xfel.clustering.cluster import Cluster\n",
      "from xfel.clustering.cluster import SingleFrame\n",
      "from xfel.clustering.cluster_groups import unit_cell_info"
     ],
     "language": "python",
     "metadata": {},
     "outputs": [],
     "prompt_number": 35
    },
    {
     "cell_type": "code",
     "collapsed": false,
     "input": [
      "clu_all = Cluster.from_directories(no_target)"
     ],
     "language": "python",
     "metadata": {},
     "outputs": [
      {
       "output_type": "stream",
       "stream": "stderr",
       "text": [
        "Could not read /Volumes/Data/XFEL/SFC_May_2014_XPP/No_TARGET/dewar2/cluster_20.lst. It may not be a pickle file.\n"
       ]
      },
      {
       "output_type": "stream",
       "stream": "stderr",
       "text": [
        "Could not extract point group and unit cell from /Volumes/Data/XFEL/SFC_May_2014_XPP/No_TARGET/dewar2/cluster_20.lst\n"
       ]
      },
      {
       "output_type": "stream",
       "stream": "stderr",
       "text": [
        "skipping file cluster_20.lst\n"
       ]
      },
      {
       "output_type": "stream",
       "stream": "stderr",
       "text": [
        "Could not read /Volumes/Data/XFEL/SFC_May_2014_XPP/No_TARGET/dewar2/cluster_21.lst. It may not be a pickle file.\n"
       ]
      },
      {
       "output_type": "stream",
       "stream": "stderr",
       "text": [
        "Could not extract point group and unit cell from /Volumes/Data/XFEL/SFC_May_2014_XPP/No_TARGET/dewar2/cluster_21.lst\n"
       ]
      },
      {
       "output_type": "stream",
       "stream": "stderr",
       "text": [
        "skipping file cluster_21.lst\n"
       ]
      },
      {
       "output_type": "stream",
       "stream": "stderr",
       "text": [
        "Could not read /Volumes/Data/XFEL/SFC_May_2014_XPP/No_TARGET/dewar2/cluster_22.lst. It may not be a pickle file.\n"
       ]
      },
      {
       "output_type": "stream",
       "stream": "stderr",
       "text": [
        "Could not extract point group and unit cell from /Volumes/Data/XFEL/SFC_May_2014_XPP/No_TARGET/dewar2/cluster_22.lst\n"
       ]
      },
      {
       "output_type": "stream",
       "stream": "stderr",
       "text": [
        "skipping file cluster_22.lst\n"
       ]
      },
      {
       "output_type": "stream",
       "stream": "stderr",
       "text": [
        "Could not read /Volumes/Data/XFEL/SFC_May_2014_XPP/No_TARGET/dewar2/cluster_23.lst. It may not be a pickle file.\n"
       ]
      },
      {
       "output_type": "stream",
       "stream": "stderr",
       "text": [
        "Could not extract point group and unit cell from /Volumes/Data/XFEL/SFC_May_2014_XPP/No_TARGET/dewar2/cluster_23.lst\n"
       ]
      },
      {
       "output_type": "stream",
       "stream": "stderr",
       "text": [
        "skipping file cluster_23.lst\n"
       ]
      }
     ],
     "prompt_number": 36
    },
    {
     "cell_type": "code",
     "collapsed": false,
     "input": [
      "sub_clusters, _ = clu_all.ab_cluster(10000)"
     ],
     "language": "python",
     "metadata": {},
     "outputs": [
      {
       "output_type": "stream",
       "stream": "stderr",
       "text": [
        "Hierarchical clustering of unit cells\n"
       ]
      },
      {
       "output_type": "stream",
       "stream": "stderr",
       "text": [
        "Using Andrews-Bernstein distance from Andrews & Bernstein J Appl Cryst 47:346 (2014)\n"
       ]
      },
      {
       "output_type": "stream",
       "stream": "stderr",
       "text": [
        "Distances have been calculated\n"
       ]
      },
      {
       "metadata": {},
       "output_type": "display_data",
       "png": "[encoded data removed]",
       "text": [
        "<matplotlib.figure.Figure at 0x10a892dd0>"
       ]
      }
     ],
     "prompt_number": 37
    },
    {
     "cell_type": "code",
     "collapsed": false,
     "input": [
      "from xfel.clustering.cluster_groups import unit_cell_info\n",
      "print unit_cell_info(sub_clusters)"
     ],
     "language": "python",
     "metadata": {},
     "outputs": [
      {
       "output_type": "stream",
       "stream": "stdout",
       "text": [
        "50 clusters.\n",
        "C_id  Num in cluster Med_a       Med_b       Med_c       Med_alpha    Med_beta     Med_gamma   \n",
        "cluster_41       2        68.8 (0.7 ) 149.9(0.6 ) 171.0(0.3 ) 88.06 (0.04) 88.10 (0.72) 87.82 (0.53)\n",
        "2 in P1.\n",
        "cluster_42       2        159.9(7.0 ) 69.4 (0.3 ) 281.3(6.8 ) 90.00 (0.00) 94.26 (1.48) 90.00 (0.00)\n",
        "2 in P2.\n",
        "cluster_43       2        66.6 (0.2 ) 290.8(0.8 ) 164.4(0.3 ) 90.00 (0.00) 93.76 (0.23) 90.00 (0.00)\n",
        "2 in P2.\n",
        "cluster_44       2        68.2 (0.3 ) 169.0(0.0 ) 353.8(1.1 ) 90.00 (0.00) 90.00 (0.00) 90.00 (0.00)\n",
        "2 in P222.\n",
        "cluster_45       3        66.6 (9.3 ) 165.5(42.5) 75.9 (37.4) 90.00 (1.52) 99.44 (1.61) 90.00 (6.92)\n",
        "2 in P2, 1 in P1.\n",
        "cluster_46       3        67.2 (0.7 ) 168.3(0.3 ) 285.3(1.2 ) 90.00 (0.00) 93.03 (0.01) 90.00 (0.00)\n",
        "3 in P2.\n",
        "cluster_47       4        169.3(1.6 ) 68.9 (0.4 ) 288.6(2.5 ) 90.00 (0.00) 90.72 (0.84) 90.00 (0.00)\n",
        "4 in P2.\n",
        "cluster_48       5        69.0 (0.5 ) 147.3(3.0 ) 169.4(1.3 ) 90.00 (0.00) 89.20 (0.90) 90.00 (0.00)\n",
        "5 in P2.\n",
        "cluster_49       79       68.9 (0.6 ) 146.3(4.1 ) 169.3(4.2 ) 90.00 (0.00) 90.00 (0.37) 90.00 (0.00)\n",
        "77 in P222, 2 in P2.\n",
        "cluster_50      404       68.6 (0.6 ) 169.2(36.0) 288.2(36.6) 90.00 (0.00) 90.00 (0.36) 90.00 (0.00)\n",
        "363 in P222, 41 in P2.\n",
        "Standard deviations are in brackets.\n",
        "40 singletons:\n",
        "\n",
        " Point group   a           b           c           alpha        beta         gamma       \n",
        "C222           68.6        166.9       768.4      90.0         90.0         90.0        \n",
        "C222           69.0        168.5       777.1      90.0         90.0         90.0        \n",
        "C222           69.7        168.6       757.2      90.0         90.0         90.0        \n",
        "C222           68.2        167.5       810.7      90.0         90.0         90.0        \n",
        "C2             68.3        168.6       762.7      93.3         90.0         90.0        \n",
        "C222           67.2        168.6       567.6      90.0         90.0         90.0        \n",
        "C222           69.3        168.2       527.2      90.0         90.0         90.0        \n",
        "C222           70.2        168.6       638.4      90.0         90.0         90.0        \n",
        "P1             69.2        167.2       645.0      87.1         87.8         89.7        \n",
        "P2             68.5        111.5       168.5      90.0         90.0         95.5        \n",
        "P1             60.7        69.3        170.2      87.7         83.5         73.8        \n",
        "P1             67.4        85.1        167.7      86.9         88.2         84.9        \n",
        "P1             50.4        68.1        157.4      97.5         93.2         106.0       \n",
        "P2             68.2        130.9       168.7      100.5        90.0         90.0        \n",
        "P1             129.4       140.7       148.3      108.3        95.2         94.1        \n",
        "P2             69.0        168.5       284.4      93.0         90.0         90.0        \n",
        "P1             68.1        164.7       281.9      94.0         93.5         92.4        \n",
        "P2             70.9        171.6       289.2      90.0         93.3         90.0        \n",
        "P2             67.3        169.0       286.7      90.0         94.0         90.0        \n",
        "P2             69.7        166.0       309.3      90.0         93.5         90.0        \n",
        "P2             69.8        167.1       296.3      90.0         92.5         90.0        \n",
        "P1             67.0        166.0       283.8      93.2         92.7         92.8        \n",
        "P222           68.7        169.2       375.9      90.0         90.0         90.0        \n",
        "P222           68.6        168.7       397.8      90.0         90.0         90.0        \n",
        "P2             68.3        169.0       280.6      90.0         91.1         90.0        \n",
        "P1             68.4        164.2       297.4      92.0         93.3         92.5        \n",
        "P2             68.9        166.6       247.2      90.0         93.4         90.0        \n",
        "P1             68.3        166.6       284.9      92.5         90.9         91.8        \n",
        "P1             70.1        170.0       230.5      104.9        94.8         93.1        \n",
        "P1             67.4        168.5       288.2      91.1         92.9         91.9        \n",
        "P2             169.3       204.1       294.5      102.4        90.0         90.0        \n",
        "P1             67.8        170.5       293.1      93.4         90.4         91.9        \n",
        "C2             54.8        70.7        334.4      90.0         90.0         96.3        \n",
        "P1             69.8        167.8       321.9      84.9         86.6         88.6        \n",
        "C222           132.9       292.7       340.0      90.0         90.0         90.0        \n",
        "P2             69.0        335.2       457.9      98.7         90.0         90.0        \n",
        "P1             181.1       348.6       481.3      86.3         86.8         76.5        \n",
        "P2             167.2       354.2       397.6      99.9         90.0         90.0        \n",
        "P2             68.1        170.5       1364.8     90.0         90.0         91.4        \n",
        "P222           69.1        285.7       1182.6     90.0         90.0         90.0        \n",
        "\n"
       ]
      }
     ],
     "prompt_number": 38
    },
    {
     "cell_type": "heading",
     "level": 5,
     "metadata": {},
     "source": [
      "So long_cell is cluster_50, and short_cell in cluster_49"
     ]
    },
    {
     "cell_type": "code",
     "collapsed": false,
     "input": [
      "for cluster in sub_clusters:\n",
      "    if cluster.cname == \"cluster_50\":\n",
      "        lc = cluster\n",
      "    if cluster.cname == \"cluster_49\":\n",
      "        sc = cluster\n",
      "print lc.medians, \"\\n\", sc.medians"
     ],
     "language": "python",
     "metadata": {},
     "outputs": [
      {
       "output_type": "stream",
       "stream": "stdout",
       "text": [
        "[68.56324267607874, 169.238256225133, 288.1812674521329, 90.0, 90.0, 90.0] \n",
        "[68.87691665165255, 146.3459194002813, 169.2985937813753, 90.0, 90.0, 90.0]\n"
       ]
      }
     ],
     "prompt_number": 40
    },
    {
     "cell_type": "markdown",
     "metadata": {},
     "source": [
      "Ok, so we now have the clusters we are going to use as test data. Let's train some GDA on them."
     ]
    },
    {
     "cell_type": "code",
     "collapsed": false,
     "input": [
      "dflc = lc.to_pandas()\n",
      "dfsc = sc.to_pandas()\n",
      "dflc['type'] = 'long'\n",
      "dfsc['type'] = 'short'\n",
      "df = dflc.append(dfsc)"
     ],
     "language": "python",
     "metadata": {},
     "outputs": [],
     "prompt_number": 41
    },
    {
     "cell_type": "code",
     "collapsed": false,
     "input": [
      "_ = df.boxplot(column=['a', 'b', 'c'], by='type', layout=(1, 3), figsize=(16,8))"
     ],
     "language": "python",
     "metadata": {},
     "outputs": [
      {
       "metadata": {},
       "output_type": "display_data",
       "png": "[encoded data removed]",
       "text": [
        "<matplotlib.figure.Figure at 0x10b819e10>"
       ]
      }
     ],
     "prompt_number": 42
    },
    {
     "cell_type": "code",
     "collapsed": false,
     "input": [
      "features = df[['a', 'b', 'c']]\n",
      "features = features.astype(float).as_matrix()\n",
      "classes = df['type'] == 'short'\n",
      "from sklearn.lda import LDA\n",
      "lda = LDA()\n",
      "lda.fit(features, classes, store_covariance=True)"
     ],
     "language": "python",
     "metadata": {},
     "outputs": [
      {
       "metadata": {},
       "output_type": "pyout",
       "prompt_number": 43,
       "text": [
        "LDA(n_components=None, priors=None)"
       ]
      }
     ],
     "prompt_number": 43
    },
    {
     "cell_type": "code",
     "collapsed": false,
     "input": [
      "print lda.score(features, classes)\n",
      "print lda.means_\n",
      "print lda.covariance_"
     ],
     "language": "python",
     "metadata": {},
     "outputs": [
      {
       "output_type": "stream",
       "stream": "stdout",
       "text": [
        "1.0\n",
        "[[  68.53106942  169.0270148   289.43734903]\n",
        " [  68.81145056  146.47342705  169.54015681]]\n",
        "[[  3.17177824e-01  -1.52676316e-01  -2.96989732e-02]\n",
        " [ -1.52676316e-01   1.47139969e+00  -1.31460965e-01]\n",
        " [ -2.96989732e-02  -1.31460965e-01   3.00553158e+01]]\n"
       ]
      }
     ],
     "prompt_number": 44
    },
    {
     "cell_type": "markdown",
     "metadata": {},
     "source": [
      "## 2. Ok, now let's try this on some per-crystal data"
     ]
    },
    {
     "cell_type": "code",
     "collapsed": false,
     "input": [
      "def is_target_1(cl, lda_ob, n_param=3, target1=lc.medians, target2=sc.medians, threshold=25000):\n",
      "    # filter to make sure they are within\n",
      "    good_images = []\n",
      "    for m in cl.members:\n",
      "        #if m.distance_from(target1) < threshold or m.distance_from(target2) < threshold:\n",
      "            good_images.append(m)\n",
      "    cl = Cluster(good_images)\n",
      "    features = np.transpose(cl.uc_feature_vector()[:3,])\n",
      "    probs = lda_ob.predict(features)\n",
      "    return int(sum(probs))"
     ],
     "language": "python",
     "metadata": {},
     "outputs": [],
     "prompt_number": 45
    },
    {
     "cell_type": "code",
     "collapsed": false,
     "input": [
      "def by_distance(cl, target1=lc.medians, target2=sc.medians):\n",
      "    # filter to make sure they are within\n",
      "    longcells = []\n",
      "    shortcells = []\n",
      "    for m in cl.members:\n",
      "        if m.distance_from(target1) < m.distance_from(target2):\n",
      "            longcells.append(m)\n",
      "        else:\n",
      "            shortcells.append(m)\n",
      "    return len(shortcells)\n"
     ],
     "language": "python",
     "metadata": {},
     "outputs": [],
     "prompt_number": 46
    },
    {
     "cell_type": "markdown",
     "metadata": {},
     "source": [
      "### Try using ALL intergration results per crystal "
     ]
    },
    {
     "cell_type": "code",
     "collapsed": false,
     "input": [
      "all_by_xtal = {}\n",
      "\n",
      "d1_root = \"/Volumes/Data/XFEL/SFC_May_2014_XPP/No_TARGET\"\n",
      "for dirpath, dname, fname in os.walk(d1_root):\n",
      "    if dirpath.endswith(\"best_by_strong\"):  \n",
      "        crystal = dirpath[53:55]\n",
      "        dewar = int(dirpath[51])\n",
      "        if dewar == 1:\n",
      "            dewar = '106'\n",
      "        elif dewar == 2:\n",
      "            dewar = '406'\n",
      "        else:\n",
      "            raise IOError \n",
      "        if fname:\n",
      "            all_by_xtal[dewar + crystal] = {'path': dirpath}\n"
     ],
     "language": "python",
     "metadata": {},
     "outputs": [],
     "prompt_number": 47
    },
    {
     "cell_type": "code",
     "collapsed": false,
     "input": [
      "t = '/Volumes/Data/XFEL/SFC_May_2014_XPP/No_TARGET/dewar2/C1/best_by_strong'\n",
      "t[53:55]"
     ],
     "language": "python",
     "metadata": {},
     "outputs": [
      {
       "metadata": {},
       "output_type": "pyout",
       "prompt_number": 48,
       "text": [
        "'C1'"
       ]
      }
     ],
     "prompt_number": 48
    },
    {
     "cell_type": "markdown",
     "metadata": {},
     "source": [
      "### Using LDA model"
     ]
    },
    {
     "cell_type": "code",
     "collapsed": false,
     "input": [
      "for xtal in all_by_xtal:\n",
      "    c = Cluster.from_directories([all_by_xtal[xtal]['path']])\n",
      "    if c.members:\n",
      "        c.cname = xtal\n",
      "        res = is_target_1(c, lda)\n",
      "        if res < len(c)/2:\n",
      "            cell = 'long'\n",
      "            n_correct = len(c) - res\n",
      "        else:\n",
      "            cell = 'short'\n",
      "            n_correct = res\n",
      "        all_by_xtal[xtal].update({'type': cell, 'n_int': len(c), 'n_correct_cell': n_correct, \n",
      "                                  'a': c.medians[0], 'a_sd': c.stdevs[0],\n",
      "                                  'b': c.medians[1], 'b_sd': c.stdevs[1],\n",
      "                                  'c': c.medians[2], 'c_sd': c.stdevs[2],\n",
      "                                  'alpha': c.medians[3], 'alpha_sd': c.stdevs[3],\n",
      "                                  'beta': c.medians[4], 'beta_sd': c.stdevs[4],\n",
      "                                  'gamma': c.medians[5], 'gamma_sd': c.stdevs[5],\n",
      "\n",
      "                                  })\n"
     ],
     "language": "python",
     "metadata": {},
     "outputs": [],
     "prompt_number": 49
    },
    {
     "cell_type": "markdown",
     "metadata": {},
     "source": [
      "### Using Distance (k-1 means clustering with AB distance)"
     ]
    },
    {
     "cell_type": "code",
     "collapsed": false,
     "input": [
      "for xtal in all_by_xtal:\n",
      "    c = Cluster.from_directories([all_by_xtal[xtal]['path']])\n",
      "    if c.members:\n",
      "        c.cname = xtal\n",
      "        res = by_distance(c)\n",
      "        if res < len(c)/2:\n",
      "            cell = 'long'            \n",
      "            n_correct = len(c) - res\n",
      "        else:\n",
      "            cell = 'short'\n",
      "            n_correct = res\n",
      "        all_by_xtal[xtal].update({'dist_type': cell, 'dist_n_correct_cell': n_correct})\n"
     ],
     "language": "python",
     "metadata": {},
     "outputs": [],
     "prompt_number": 50
    },
    {
     "cell_type": "code",
     "collapsed": false,
     "input": [
      "import json\n",
      "json.dump(all_by_xtal, open(\"dewar_labels.json\", 'wb'))"
     ],
     "language": "python",
     "metadata": {},
     "outputs": [],
     "prompt_number": 51
    },
    {
     "cell_type": "code",
     "collapsed": false,
     "input": [],
     "language": "python",
     "metadata": {},
     "outputs": []
    }
   ],
   "metadata": {}
  }
 ]
}