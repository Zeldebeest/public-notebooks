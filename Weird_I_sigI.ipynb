{
 "metadata": {
  "name": "",
  "signature": "sha256:9dd7483834ff51a9d9d8588865f9e74919b1651d25e7995688bd2497cb8e3751"
 },
 "nbformat": 3,
 "nbformat_minor": 0,
 "worksheets": [
  {
   "cells": [
    {
     "cell_type": "markdown",
     "metadata": {},
     "source": [
      "# Investigating SigI's that are smaller than sqrt(I)\n",
      "Some integration pickles:"
     ]
    },
    {
     "cell_type": "code",
     "collapsed": false,
     "input": [
      "from __future__ import division\n",
      "from xfel.clustering.cluster import Cluster\n",
      "from scitbx.array_family import flex"
     ],
     "language": "python",
     "metadata": {},
     "outputs": [],
     "prompt_number": 2
    },
    {
     "cell_type": "code",
     "collapsed": false,
     "input": [
      "clu = Cluster.from_directories(['/Users/zeldin/Dropbox/Stanford_Postdoc/CODING/cctbx_testing/100_L614_myo/'])"
     ],
     "language": "python",
     "metadata": {},
     "outputs": [],
     "prompt_number": 3
    },
    {
     "cell_type": "code",
     "collapsed": false,
     "input": [
      "def count_small_sigmas(mill, gain):\n",
      "    \"\"\" count the number of sigmas smaller than sqrt(I) \"\"\"\n",
      "    count = 0\n",
      "    for i in zip(flex.sqrt(mill.data()), mill.sigmas()):\n",
      "        if i[0] > gain * i[1]:\n",
      "            count += 1\n",
      "    return count / len(mill)"
     ],
     "language": "python",
     "metadata": {},
     "outputs": [],
     "prompt_number": 4
    },
    {
     "cell_type": "code",
     "collapsed": false,
     "input": [
      "for member in clu.members[:10]:\n",
      "   print \"{}\".format(count_small_sigmas(member.miller_array, 1))"
     ],
     "language": "python",
     "metadata": {},
     "outputs": [
      {
       "output_type": "stream",
       "stream": "stdout",
       "text": [
        "0.406578026592\n",
        "0.0870418848168\n",
        "0.268903591682\n",
        "0.164790996785\n",
        "0.0240524781341\n",
        "0.0694444444444\n",
        "0.0560283687943\n",
        "0.179166666667\n",
        "0.393121693122\n",
        "0.23102310231\n"
       ]
      }
     ],
     "prompt_number": 5
    },
    {
     "cell_type": "markdown",
     "metadata": {},
     "source": [
      "So over half of the elements in the sigma arrays as smaller than sqrt(I_0). Any idea why?"
     ]
    }
   ],
   "metadata": {}
  }
 ]
}