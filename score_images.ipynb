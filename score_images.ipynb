{
 "metadata": {
  "name": "",
  "signature": "sha256:56df893796e32ac9c1a88344e7eb80ebbe5a2d2e141db3ff18f24955bd151576"
 },
 "nbformat": 3,
 "nbformat_minor": 0,
 "worksheets": [
  {
   "cells": [
    {
     "cell_type": "code",
     "collapsed": false,
     "input": [
      "from __future__ import division\n",
      "import csv"
     ],
     "language": "python",
     "metadata": {},
     "outputs": [],
     "prompt_number": 90
    },
    {
     "cell_type": "code",
     "collapsed": false,
     "input": [
      "base_lst = \"/Volumes/Data/XFEL/SFC_May_2014_XPP/data/grid_search/crystal_scoring.csv\""
     ],
     "language": "python",
     "metadata": {},
     "outputs": [],
     "prompt_number": 32
    },
    {
     "cell_type": "code",
     "collapsed": false,
     "input": [
      "def xtal_dict(fields):\n",
      "    d_rt = {\"Cassette\": fields[0].strip(),\n",
      "            \"id\": fields[1].strip(),\n",
      "            \"n_imgs\": int(fields[2].strip()),\n",
      "            \"Comments\": fields[-1].strip(),\n",
      "            \"Beamsize\": int(fields[-2].strip()),\n",
      "            \"Score\": int(fields[-3].strip())}\n",
      "    \n",
      "    angles = [f.strip() for f in fields[3:-3]]\n",
      "    if angles == [\"--\"]:\n",
      "        angles = None\n",
      "    else:\n",
      "        angles = [float(a) for a in angles]\n",
      "    d_rt[\"Angles\"] = angles\n",
      "    return d_rt\n"
     ],
     "language": "python",
     "metadata": {},
     "outputs": [],
     "prompt_number": 39
    },
    {
     "cell_type": "code",
     "collapsed": false,
     "input": [
      "with open(base_lst, 'rb') as csv_file:\n",
      "    reader = csv.reader(csv_file, delimiter=\",\", )\n",
      "    first_row = True\n",
      "    all_xtals = {}\n",
      "    for row in reader:\n",
      "        if first_row:\n",
      "            first_row = False\n",
      "            continue\n",
      "        d = xtal_dict(row)\n",
      "        all_xtals[d[\"id\"]] = d"
     ],
     "language": "python",
     "metadata": {},
     "outputs": [
      {
       "output_type": "stream",
       "stream": "stdout",
       "text": [
        "\n"
       ]
      }
     ],
     "prompt_number": 72
    },
    {
     "cell_type": "code",
     "collapsed": false,
     "input": [
      "all_xtals['E8']"
     ],
     "language": "python",
     "metadata": {},
     "outputs": [
      {
       "metadata": {},
       "output_type": "pyout",
       "prompt_number": 73,
       "text": [
        "{'Angles': [54.0, 53.0, 52.0, 51.0, 50.0],\n",
        " 'Beamsize': 30,\n",
        " 'Cassette': '406',\n",
        " 'Comments': 'Great',\n",
        " 'Score': 5,\n",
        " 'id': 'E8',\n",
        " 'n_imgs': 5}"
       ]
      }
     ],
     "prompt_number": 73
    },
    {
     "cell_type": "markdown",
     "metadata": {},
     "source": [
      "Next, need to add xtal labels to these..."
     ]
    },
    {
     "cell_type": "code",
     "collapsed": false,
     "input": [
      "# See notebook gaussian_linear_discriminant_UC_identification\n",
      "import pickle\n",
      "labels = pickle.load(open(\"dewar_106_lables.pickle\", 'rb'))\n",
      "print labels"
     ],
     "language": "python",
     "metadata": {},
     "outputs": [
      {
       "output_type": "stream",
       "stream": "stdout",
       "text": [
        "{'K7': 'Long', 'K5': 'Long', 'K8': 'Long', 'G7': 'Short', 'I8': 'Long', 'G4': 'Long', 'I3': 'Long', 'I2': 'Long', 'G8': 'Short', 'C8': 'Long', 'E1': 'Long', 'C5': 'Long', 'C4': 'Short', 'L6': 'Long', 'L4': 'Long', 'L2': 'Long', 'L3': 'Long', 'J8': 'Long', 'F1': 'Short', 'F3': 'Long', 'F4': 'Long', 'F5': 'Long', 'F8': 'Long', 'C7': 'Long', 'J1': 'Long', 'J3': 'Long', 'J5': 'Short', 'D7': 'Long', 'D4': 'Long', 'D2': 'Long'}\n"
       ]
      }
     ],
     "prompt_number": 86
    },
    {
     "cell_type": "code",
     "collapsed": false,
     "input": [
      "yes, no = 0, 0\n",
      "for v in all_xtals:\n",
      "    if all_xtals[v]['Cassette'] == '106':\n",
      "        try:\n",
      "            all_xtals[v][\"cell_type\"] = labels[v]\n",
      "            print \"Yay! {} in lables\".format(v)\n",
      "            yes += 1\n",
      "        except KeyError:\n",
      "            print \"noo! {} not in lables\".format(v)\n",
      "            no += 1\n",
      "print yes, no"
     ],
     "language": "python",
     "metadata": {},
     "outputs": [
      {
       "output_type": "stream",
       "stream": "stdout",
       "text": [
        "Yay! K8 in lables\n",
        "Yay! L3 in lables\n",
        "noo! L1 not in lables\n",
        "Yay! J1 in lables\n",
        "noo! K3 not in lables\n",
        "noo! K2 not in lables\n",
        "Yay! K7 in lables\n",
        "Yay! K5 in lables\n",
        "noo! I6 not in lables\n",
        "noo! I1 not in lables\n",
        "Yay! I3 in lables\n",
        "Yay! I2 in lables\n",
        "noo! I5 not in lables\n",
        "Yay! G8 in lables\n",
        "noo! A4 not in lables\n",
        "noo! C3 not in lables\n",
        "noo! A8 not in lables\n",
        "noo! F6 not in lables\n",
        "Yay! I8 in lables\n",
        "Yay! J8 in lables\n",
        "noo! H8 not in lables\n",
        "Yay! L6 in lables\n",
        "Yay! J5 in lables\n",
        "Yay! L4 in lables\n",
        "Yay! L2 in lables\n",
        "Yay! J3 in lables\n",
        "noo! J4 not in lables\n",
        "noo! L8 not in lables\n",
        "Yay! F1 in lables\n",
        "Yay! F8 in lables\n",
        "noo! H7 not in lables\n",
        "noo! J2 not in lables\n",
        "noo! H5 not in lables\n",
        "noo! B4 not in lables\n",
        "noo! B7 not in lables\n",
        "noo! D5 not in lables\n",
        "Yay! D2 in lables\n",
        "18 19\n"
       ]
      }
     ],
     "prompt_number": 98
    },
    {
     "cell_type": "code",
     "collapsed": false,
     "input": [
      "for v in all_xtals.values():\n",
      "    if v['Cassette'] == '106':\n",
      "        \n",
      "        print v[\"id\"], v[\"cell_type\"]"
     ],
     "language": "python",
     "metadata": {},
     "outputs": [
      {
       "output_type": "stream",
       "stream": "stdout",
       "text": [
        " K8"
       ]
      },
      {
       "ename": "KeyError",
       "evalue": "'cell_type'",
       "output_type": "pyerr",
       "traceback": [
        "\u001b[0;31m---------------------------------------------------------------------------\u001b[0m\n\u001b[0;31mKeyError\u001b[0m                                  Traceback (most recent call last)",
        "\u001b[0;32m<ipython-input-82-627252fd97bb>\u001b[0m in \u001b[0;36m<module>\u001b[0;34m()\u001b[0m\n\u001b[1;32m      1\u001b[0m \u001b[0;32mfor\u001b[0m \u001b[0mv\u001b[0m \u001b[0;32min\u001b[0m \u001b[0mall_xtals\u001b[0m\u001b[0;34m.\u001b[0m\u001b[0mvalues\u001b[0m\u001b[0;34m(\u001b[0m\u001b[0;34m)\u001b[0m\u001b[0;34m:\u001b[0m\u001b[0;34m\u001b[0m\u001b[0m\n\u001b[1;32m      2\u001b[0m     \u001b[0;32mif\u001b[0m \u001b[0mv\u001b[0m\u001b[0;34m[\u001b[0m\u001b[0;34m'Cassette'\u001b[0m\u001b[0;34m]\u001b[0m \u001b[0;34m==\u001b[0m \u001b[0;34m'106'\u001b[0m\u001b[0;34m:\u001b[0m\u001b[0;34m\u001b[0m\u001b[0m\n\u001b[0;32m----> 3\u001b[0;31m         \u001b[0;32mprint\u001b[0m \u001b[0mv\u001b[0m\u001b[0;34m[\u001b[0m\u001b[0;34m\"id\"\u001b[0m\u001b[0;34m]\u001b[0m\u001b[0;34m,\u001b[0m \u001b[0mv\u001b[0m\u001b[0;34m[\u001b[0m\u001b[0;34m\"cell_type\"\u001b[0m\u001b[0;34m]\u001b[0m\u001b[0;34m\u001b[0m\u001b[0m\n\u001b[0m",
        "\u001b[0;31mKeyError\u001b[0m: 'cell_type'"
       ]
      }
     ],
     "prompt_number": 82
    },
    {
     "cell_type": "code",
     "collapsed": false,
     "input": [],
     "language": "python",
     "metadata": {},
     "outputs": []
    }
   ],
   "metadata": {}
  }
 ]
}